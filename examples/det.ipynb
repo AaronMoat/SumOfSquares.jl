{
 "cells": [
  {
   "cell_type": "markdown",
   "metadata": {},
   "source": [
    "Largely inspired from `tools/examples/fusion/python/lownerjohn_ellipsoid.py` in Mosek\n",
    "\n",
    "### Purpose:\n",
    "\n",
    "Computes the Lowner-John inner and outer ellipsoidal approximations of a polytope.\n",
    "\n",
    "###  References:\n",
    "\n",
    "- [1] Ben-Tal, Aharon, and Arkadi Nemirovski. *Lectures on modern convex optimization: analysis, algorithms, and engineering applications*. Society for Industrial and Applied Mathematics, 2001.\n",
    "- [2] \"MOSEK modeling manual\", 2013"
   ]
  },
  {
   "cell_type": "code",
   "execution_count": 8,
   "metadata": {},
   "outputs": [],
   "source": [
    "function _ilog2(n, i)\n",
    "    if n <= (one(n) << i)\n",
    "        i\n",
    "    else\n",
    "        _ilog2(n, i+1)\n",
    "    end\n",
    "end\n",
    "function ilog2(n::Integer)\n",
    "    @assert n > zero(n)\n",
    "    _ilog2(n, zero(n))\n",
    "end\n",
    "@assert ilog2(1) == 0\n",
    "@assert ilog2(2) == 1\n",
    "@assert ilog2(3) == 2\n",
    "@assert ilog2(4) == 2\n",
    "@assert ilog2(5) == 3\n",
    "@assert ilog2(6) == 3\n",
    "@assert ilog2(7) == 3\n",
    "@assert ilog2(8) == 3"
   ]
  },
  {
   "cell_type": "code",
   "execution_count": 11,
   "metadata": {},
   "outputs": [
    {
     "name": "stderr",
     "output_type": "stream",
     "text": [
      "\u001b[1m\u001b[36mINFO: \u001b[39m\u001b[22m\u001b[36mRecompiling stale cache file /home/blegat/.julia/lib/v0.6/JuMP.ji for module JuMP.\n",
      "\u001b[39m"
     ]
    },
    {
     "data": {
      "text/plain": [
       "MathOptInterface"
      ]
     },
     "execution_count": 11,
     "metadata": {},
     "output_type": "execute_result"
    }
   ],
   "source": [
    "using JuMP # Needs branch jump/moi\n",
    "using MathOptInterface\n",
    "const MOI = MathOptInterface"
   ]
  },
  {
   "cell_type": "code",
   "execution_count": 12,
   "metadata": {},
   "outputs": [
    {
     "data": {
      "text/plain": [
       "geometric_mean"
      ]
     },
     "execution_count": 12,
     "metadata": {},
     "output_type": "execute_result"
    }
   ],
   "source": [
    "\"\"\"\n",
    "    geometric_mean(M, x, t)\n",
    "\n",
    "Models the convex set \n",
    "\n",
    "  S = { (x, t) \\in R^n x R | x >= 0, t <= (x1 * x2 * ... * xn)^(1/n) }\n",
    "\n",
    "as  the intersection of rotated quadratic cones and affine hyperplanes.\n",
    "see [1, p. 105] or [2, p. 21].  This set can be interpreted as the hypograph of the \n",
    "geometric mean of x.\n",
    "\n",
    "We illustrate the modeling procedure using the following example.\n",
    "Suppose we have \n",
    "\n",
    "   t <= (x1 * x2 * x3)^(1/3)\n",
    "\n",
    "for some t >= 0, x >= 0. We rewrite it as\n",
    "\n",
    "   t^4 <= x1 * x2 * x3 * x4, x4 = t\n",
    "\n",
    "which is equivalent to (see [1])\n",
    "\n",
    "   x11^2 <= 2*x1*x2,   x12^2 <= 2*x3*x4,\n",
    "\n",
    "   x21^2 <= 2*x11*x12,\n",
    "\n",
    "   x21 = sqrt(8)*t, x4 = t.\n",
    "\"\"\"\n",
    "function geometric_mean(model, x, t)\n",
    "    function rec(x)\n",
    "        n = length(x)\n",
    "        if n > 1\n",
    "            y = @variable model [1:div(n, 2)]\n",
    "            for i in 1:length(y)\n",
    "                @constraint model [x[2*i-1], x[2*i], y[i]] in RotatedSecondOrderCone(3)\n",
    "            end\n",
    "            rec(y)\n",
    "        else\n",
    "            x\n",
    "        end\n",
    "    end\n",
    "\n",
    "    n = length(x)\n",
    "    l = ilog2(n)\n",
    "    m = (1 << l) - n\n",
    "\n",
    "    # if size of x is not a power of 2 we pad it:\n",
    "    if m > 0\n",
    "        x_padding = @variable model [1:m]\n",
    "\n",
    "        # set the last m elements equal to t\n",
    "        @constraint model x_padding .== t\n",
    "\n",
    "        # The type of x could be Vector{AffExpr} in which case\n",
    "        # x = [x; x_padding] would change the type of x\n",
    "        y = [x; x_padding]\n",
    "    end\n",
    "\n",
    "    @constraint model sqrt(2)^l * t == rec(x)\n",
    "end"
   ]
  },
  {
   "cell_type": "code",
   "execution_count": 10,
   "metadata": {},
   "outputs": [
    {
     "data": {
      "text/plain": [
       "det_rootn"
      ]
     },
     "execution_count": 10,
     "metadata": {},
     "output_type": "execute_result"
    }
   ],
   "source": [
    "\"\"\"\n",
    " Purpose: Models the hypograph of the n-th power of the\n",
    " determinant of a positive definite matrix. See [1,2] for more details.\n",
    "\n",
    "   The convex set (a hypograph)\n",
    "\n",
    "   C = { (X, t) \\in S^n_+ x R |  t <= det(X)^{1/n} },\n",
    "\n",
    "   can be modeled as the intersection of a semidefinite cone\n",
    "\n",
    "   [ X, Z; Z^T Diag(Z) ] >= 0  \n",
    "\n",
    "   and a number of rotated quadratic cones and affine hyperplanes,\n",
    "\n",
    "   t <= (Z11*Z22*...*Znn)^{1/n}  (see geometric_mean).\n",
    "\"\"\"\n",
    "function det_rootn(M, X, t)\n",
    "    n = isqrt(X.size())\n",
    "\n",
    "    # Setup variables\n",
    "    Y = M.variable(Domain.inPSDCone(2 * n))\n",
    "\n",
    "    # Setup Y = [X, Z; Z^T , diag(Z)]\n",
    "    Y11 = Y.slice([0, 0], [n, n])\n",
    "    Y21 = Y.slice([n, 0], [2 * n, n])\n",
    "    Y22 = Y.slice([n, n], [2 * n, 2 * n])\n",
    "\n",
    "    M.constraint(Expr.sub(Y21.diag(), Y22.diag()), Domain.equalsTo(0.0))\n",
    "    M.constraint(Expr.sub(X, Y11), Domain.equalsTo(0.0))\n",
    "\n",
    "    # t^n <= (Z11*Z22*...*Znn)\n",
    "    geometric_mean(M, Y22.diag(), t)\n",
    "end"
   ]
  },
  {
   "cell_type": "code",
   "execution_count": null,
   "metadata": {
    "collapsed": true
   },
   "outputs": [],
   "source": [
    "\"\"\"\n",
    "  The inner ellipsoidal approximation to a polytope \n",
    "\n",
    "     S = { x \\in R^n | Ax < b }.\n",
    "\n",
    "  maximizes the volume of the inscribed ellipsoid,\n",
    "\n",
    "     { x | x = C*u + d, || u ||_2 <= 1 }.\n",
    "\n",
    "  The volume is proportional to det(C)^(1/n), so the\n",
    "  problem can be solved as \n",
    "\n",
    "    maximize         t\n",
    "    subject to       t       <= det(C)^(1/n)\n",
    "                || C*ai ||_2 <= bi - ai^T * d,  i=1,...,m\n",
    "                C is PSD\n",
    "\n",
    "  which is equivalent to a mixed conic quadratic and semidefinite\n",
    "  programming problem.\n",
    "\"\"\"\n",
    "def lownerjohn_inner(A, b):\n",
    "    with Model(\"lownerjohn_inner\") as M:\n",
    "        M.setLogHandler(sys.stdout)\n",
    "        m, n = len(A), len(A[0])\n",
    "\n",
    "        # Setup variables\n",
    "        t = M.variable(\"t\", 1, Domain.greaterThan(0.0))\n",
    "        C = M.variable(\"C\", Domain.inPSDCone(n))\n",
    "        d = M.variable(\"d\", n, Domain.unbounded())\n",
    "\n",
    "        # (b-Ad, AC) generate cones\n",
    "        M.constraint(\"qc\", Expr.hstack(Expr.sub(b, Expr.mul(A, d)), Expr.mul(A, C)),\n",
    "                     Domain.inQCone())\n",
    "        # t <= det(C)^{1/n}\n",
    "        det_rootn(M, C, t)\n",
    "\n",
    "        # Objective: Maximize t\n",
    "        M.objective(ObjectiveSense.Maximize, t)\n",
    "\n",
    "        M.solve()\n",
    "\n",
    "        C, d = C.level(), d.level()\n",
    "        return ([C[i:i + n] for i in range(0, n * n, n)], d)"
   ]
  },
  {
   "cell_type": "code",
   "execution_count": null,
   "metadata": {
    "collapsed": true
   },
   "outputs": [],
   "source": [
    "\"\"\"\n",
    "  The outer ellipsoidal approximation to a polytope given \n",
    "  as the convex hull of a set of points\n",
    "\n",
    "    S = conv{ x1, x2, ... , xm }\n",
    "\n",
    "  minimizes the volume of the enclosing ellipsoid,\n",
    "\n",
    "    { x | || P*x-c ||_2 <= 1 }\n",
    "\n",
    "  The volume is proportional to det(P)^{-1/n}, so the problem can\n",
    "  be solved as\n",
    "\n",
    "    maximize         t\n",
    "    subject to       t       <= det(P)^(1/n)\n",
    "                || P*xi - c ||_2 <= 1,  i=1,...,m\n",
    "                P is PSD.\n",
    "\"\"\"\n",
    "def lownerjohn_outer(x):\n",
    "    with Model(\"lownerjohn_outer\") as M:\n",
    "        M.setLogHandler(sys.stdout)\n",
    "        m, n = len(x), len(x[0])\n",
    "\n",
    "        # Setup variables\n",
    "        t = M.variable(\"t\", 1, Domain.greaterThan(0.0))\n",
    "        P = M.variable(\"P\", Domain.inPSDCone(n))\n",
    "        c = M.variable(\"c\", n, Domain.unbounded())\n",
    "\n",
    "        # (1, Px-c) in cone\n",
    "        M.constraint(\"qc\",\n",
    "                     Expr.hstack(Expr.ones(m),\n",
    "                                 Expr.sub(Expr.mul(x, P),\n",
    "                                          Var.reshape(Var.repeat(c, m), [m, n])\n",
    "                                          )\n",
    "                                 ),\n",
    "                     Domain.inQCone())\n",
    "\n",
    "        # t <= det(P)^{1/n}\n",
    "        det_rootn(M, P, t)\n",
    "\n",
    "        # Objective: Maximize t\n",
    "        M.objective(ObjectiveSense.Maximize, t)\n",
    "        M.solve()\n",
    "\n",
    "        P, c = P.level(), c.level()\n",
    "        return ([P[i:i + n] for i in range(0, n * n, n)], c)"
   ]
  },
  {
   "cell_type": "code",
   "execution_count": null,
   "metadata": {
    "collapsed": true
   },
   "outputs": [],
   "source": [
    "if __name__ == '__main__':\n",
    "    #Vertices of a pentagon in 2D\n",
    "    p = [[0., 0.], [1., 3.], [5.5, 4.5], [7., 4.], [7., 1.], [3., -2.]]\n",
    "    nVerts = len(p)\n",
    "\n",
    "    #The hyperplane representation of the same polytope\n",
    "    A = [[-p[i][1] + p[i - 1][1], p[i][0] - p[i - 1][0]]\n",
    "         for i in range(len(p))]\n",
    "    b = [A[i][0] * p[i][0] + A[i][1] * p[i][1] for i in range(len(p))]\n",
    "\n",
    "    Po, co = lownerjohn_outer(p)\n",
    "    Ci, di = lownerjohn_inner(A, b)\n",
    "\n",
    "    #Visualization\n",
    "    try:\n",
    "        import numpy as np\n",
    "        import matplotlib\n",
    "        matplotlib.use('Agg')\n",
    "        import matplotlib.pyplot as plt\n",
    "        import matplotlib.patches as patches\n",
    "\n",
    "        #Polygon\n",
    "        fig = plt.figure()\n",
    "        ax = fig.add_subplot(111)\n",
    "        ax.add_patch(patches.Polygon(p, fill=False, color=\"red\"))\n",
    "        #The inner ellipse\n",
    "        theta = np.linspace(0, 2 * np.pi, 100)\n",
    "        x = Ci[0][0] * np.cos(theta) + Ci[0][1] * np.sin(theta) + di[0]\n",
    "        y = Ci[1][0] * np.cos(theta) + Ci[1][1] * np.sin(theta) + di[1]\n",
    "        ax.plot(x, y)\n",
    "        #The outer ellipse\n",
    "        x, y = np.meshgrid(np.arange(-1.0, 8.0, 0.025),\n",
    "                           np.arange(-3.0, 6.5, 0.025))\n",
    "        ax.contour(x, y,\n",
    "                   (Po[0][0] * x + Po[0][1] * y - co[0])**2 + (Po[1][0] * x + Po[1][1] * y - co[1])**2, [1])\n",
    "        ax.autoscale_view()\n",
    "        ax.xaxis.set_visible(False)\n",
    "        ax.yaxis.set_visible(False)\n",
    "        fig.savefig('ellipsoid.png')\n",
    "    except:\n",
    "        print(\"Inner:\")\n",
    "        print(\"  C = \", Ci)\n",
    "        print(\"  d = \", di)\n",
    "        print(\"Outer:\")\n",
    "        print(\"  P = \", Po)\n",
    "        print(\"  c = \", co)"
   ]
  }
 ],
 "metadata": {
  "kernelspec": {
   "display_name": "Julia 0.6.0",
   "language": "julia",
   "name": "julia-0.6"
  },
  "language_info": {
   "file_extension": ".jl",
   "mimetype": "application/julia",
   "name": "julia",
   "version": "0.6.0"
  }
 },
 "nbformat": 4,
 "nbformat_minor": 2
}
