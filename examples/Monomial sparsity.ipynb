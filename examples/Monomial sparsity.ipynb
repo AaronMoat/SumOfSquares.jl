{
 "cells": [
  {
   "cell_type": "markdown",
   "metadata": {},
   "source": [
    "Example 4.2 of [MWL20].\n",
    "\n",
    "[WML19] Wang, Jie, Victor Magron, and Jean-Bernard Lasserre. \"TSSOS: A Moment-SOS hierarchy that exploits term sparsity.\" arXiv preprint arXiv:1912.08899 (2019)."
   ]
  },
  {
   "cell_type": "code",
   "execution_count": 1,
   "metadata": {},
   "outputs": [
    {
     "data": {
      "text/latex": [
       "$$ x_{1}^{4} + x_{2}^{4} + x_{3}^{4} + x_{1}x_{2}x_{3} + x_{2} + 1 $$"
      ],
      "text/plain": [
       "x₁⁴ + x₂⁴ + x₃⁴ + x₁x₂x₃ + x₂ + 1"
      ]
     },
     "execution_count": 1,
     "metadata": {},
     "output_type": "execute_result"
    }
   ],
   "source": [
    "using DynamicPolynomials\n",
    "@polyvar x[1:3]\n",
    "f = 1 + x[1]^4 + x[2]^4 + x[3]^4 + prod(x) + x[2]"
   ]
  },
  {
   "cell_type": "code",
   "execution_count": 2,
   "metadata": {},
   "outputs": [
    {
     "name": "stderr",
     "output_type": "stream",
     "text": [
      "┌ Info: Precompiling SumOfSquares [4b9e565b-77fc-50a5-a571-1244f986bda1]\n",
      "└ @ Base loading.jl:1260\n"
     ]
    },
    {
     "data": {
      "text/plain": [
       "10-element MonomialVector{true}:\n",
       " x₁²\n",
       " x₁x₂\n",
       " x₁x₃\n",
       " x₂²\n",
       " x₂x₃\n",
       " x₃²\n",
       " x₁\n",
       " x₂\n",
       " x₃\n",
       " 1"
      ]
     },
     "execution_count": 2,
     "metadata": {},
     "output_type": "execute_result"
    }
   ],
   "source": [
    "using SumOfSquares\n",
    "SumOfSquares.Certificate.monomials_half_newton_polytope(monomials(f), tuple())"
   ]
  },
  {
   "cell_type": "code",
   "execution_count": 3,
   "metadata": {},
   "outputs": [
    {
     "data": {
      "text/plain": [
       "Set{Monomial{true}} with 10 elements:\n",
       "  1\n",
       "  x₂x₃\n",
       "  x₂²\n",
       "  x₃\n",
       "  x₃²\n",
       "  x₁²\n",
       "  x₁\n",
       "  x₂\n",
       "  x₁x₂\n",
       "  x₁x₃"
      ]
     },
     "execution_count": 3,
     "metadata": {},
     "output_type": "execute_result"
    }
   ],
   "source": [
    "monos = Set(monomials(x, 0:2))"
   ]
  },
  {
   "cell_type": "code",
   "execution_count": 4,
   "metadata": {},
   "outputs": [
    {
     "data": {
      "text/plain": [
       "Set{Monomial{true}} with 12 elements:\n",
       "  x₁⁴\n",
       "  x₁x₂x₃\n",
       "  x₂²\n",
       "  x₃⁴\n",
       "  x₁²x₂²\n",
       "  x₁²x₃²\n",
       "  x₂\n",
       "  x₃²\n",
       "  x₂⁴\n",
       "  x₂²x₃²\n",
       "  x₁²\n",
       "  1"
      ]
     },
     "execution_count": 4,
     "metadata": {},
     "output_type": "execute_result"
    }
   ],
   "source": [
    "P = Set(monomials(f))\n",
    "for mono in monos\n",
    "    push!(P, mono^2)\n",
    "end\n",
    "P"
   ]
  },
  {
   "cell_type": "code",
   "execution_count": 5,
   "metadata": {},
   "outputs": [
    {
     "data": {
      "text/plain": [
       "Monomial{true}-LabelledGraph with\n",
       "Nodes:\n",
       "1, x[2]*x[3], x[2]^2, x[3], x[3]^2, x[1]^2, x[1], x[2], x[1]*x[2], x[1]*x[3], \n",
       "Edges:\n",
       "( x[1]*x[3], x[2] )\n",
       "( x[2]*x[3], x[1] )\n",
       "( x[2]^2, x[3]^2 )\n",
       "( x[2]^2, x[1]^2 )\n",
       "( x[2]^2, 1 )\n",
       "( x[3], x[1]*x[2] )\n",
       "( x[3]^2, x[2]^2 )\n",
       "( x[3]^2, x[1]^2 )\n",
       "( x[3]^2, 1 )\n",
       "( x[1]^2, x[2]^2 )\n",
       "( x[1]^2, x[3]^2 )\n",
       "( x[1]^2, 1 )\n",
       "( x[1], x[2]*x[3] )\n",
       "( x[2], x[1]*x[3] )\n",
       "( x[2], 1 )\n",
       "( x[1]*x[2], x[3] )\n",
       "( 1, x[2]^2 )\n",
       "( 1, x[3]^2 )\n",
       "( 1, x[2] )\n",
       "( 1, x[1]^2 )\n"
      ]
     },
     "execution_count": 5,
     "metadata": {},
     "output_type": "execute_result"
    }
   ],
   "source": [
    "const CEG = SumOfSquares.Certificate.ChordalExtensionGraph\n",
    "g = CEG.LabelledGraph{monomialtype(f)}()\n",
    "for mono in monos\n",
    "    CEG.add_node!(g, mono)\n",
    "end\n",
    "for a in monos\n",
    "    for b in monos\n",
    "        if a != b && (a * b) in P\n",
    "            CEG.add_edge!(g, a, b)\n",
    "        end\n",
    "    end\n",
    "end\n",
    "g"
   ]
  },
  {
   "cell_type": "code",
   "execution_count": 6,
   "metadata": {},
   "outputs": [
    {
     "data": {
      "text/plain": [
       "(Monomial{true}-LabelledGraph with\n",
       "Nodes:\n",
       "1, x[2]*x[3], x[2]^2, x[3], x[3]^2, x[1]^2, x[1], x[2], x[1]*x[2], x[1]*x[3], \n",
       "Edges:\n",
       "( x[1]*x[3], x[2] )\n",
       "( x[2]*x[3], x[1] )\n",
       "( x[2]^2, x[3]^2 )\n",
       "( x[2]^2, x[1]^2 )\n",
       "( x[2]^2, 1 )\n",
       "( x[3], x[1]*x[2] )\n",
       "( x[3]^2, x[2]^2 )\n",
       "( x[3]^2, x[1]^2 )\n",
       "( x[3]^2, 1 )\n",
       "( x[1]^2, x[2]^2 )\n",
       "( x[1]^2, x[3]^2 )\n",
       "( x[1]^2, 1 )\n",
       "( x[1], x[2]*x[3] )\n",
       "( x[2], x[1]*x[3] )\n",
       "( x[2], 1 )\n",
       "( x[1]*x[2], x[3] )\n",
       "( 1, x[2]^2 )\n",
       "( 1, x[3]^2 )\n",
       "( 1, x[2] )\n",
       "( 1, x[1]^2 )\n",
       ", Array{Monomial{true},1}[[1, x₂², x₃², x₁²], [x₂, x₁x₃], [1, x₂], [x₃, x₁x₂], [x₂x₃, x₁]])"
      ]
     },
     "execution_count": 6,
     "metadata": {},
     "output_type": "execute_result"
    }
   ],
   "source": [
    "H, cliques = CEG.chordal_extension(g, CEG.GreedyFillIn())"
   ]
  },
  {
   "cell_type": "code",
   "execution_count": 7,
   "metadata": {},
   "outputs": [
    {
     "data": {
      "text/plain": [
       "Set{Monomial{true}} with 12 elements:\n",
       "  x₁⁴\n",
       "  x₁x₂x₃\n",
       "  x₂²\n",
       "  x₁²x₂²\n",
       "  x₃⁴\n",
       "  x₁²x₃²\n",
       "  x₃²\n",
       "  x₂\n",
       "  x₂⁴\n",
       "  x₂²x₃²\n",
       "  x₁²\n",
       "  1"
      ]
     },
     "execution_count": 7,
     "metadata": {},
     "output_type": "execute_result"
    }
   ],
   "source": [
    "P1 = Set{eltype(P)}()\n",
    "for a in monos\n",
    "    push!(P1, a^2)\n",
    "    for bi in H.graph.neighbors[H.n2int[a]]\n",
    "        b = H.int2n[bi]\n",
    "        push!(P1, a * b)\n",
    "    end\n",
    "end\n",
    "P1"
   ]
  },
  {
   "cell_type": "code",
   "execution_count": 8,
   "metadata": {},
   "outputs": [
    {
     "data": {
      "text/plain": [
       "Set{Monomial{true}} with 12 elements:\n",
       "  x₁⁴\n",
       "  x₁x₂x₃\n",
       "  x₂²\n",
       "  x₃⁴\n",
       "  x₁²x₂²\n",
       "  x₁²x₃²\n",
       "  x₂\n",
       "  x₃²\n",
       "  x₂⁴\n",
       "  x₂²x₃²\n",
       "  x₁²\n",
       "  1"
      ]
     },
     "execution_count": 8,
     "metadata": {},
     "output_type": "execute_result"
    }
   ],
   "source": [
    "P"
   ]
  },
  {
   "cell_type": "code",
   "execution_count": 12,
   "metadata": {},
   "outputs": [
    {
     "data": {
      "text/plain": [
       "sparsity (generic function with 3 methods)"
      ]
     },
     "execution_count": 12,
     "metadata": {},
     "output_type": "execute_result"
    }
   ],
   "source": [
    "const MP = SumOfSquares.MP\n",
    "const CEG = SumOfSquares.Certificate.ChordalExtensionGraph\n",
    "function monomial_sparsity_graph(monos, P)\n",
    "    g = CEG.LabelledGraph{monomialtype(f)}()\n",
    "    for mono in monos\n",
    "        CEG.add_node!(g, mono)\n",
    "    end\n",
    "    for a in monos\n",
    "        for b in monos\n",
    "            if a != b && (a * b) in P\n",
    "                CEG.add_edge!(g, a, b)\n",
    "            end\n",
    "        end\n",
    "    end\n",
    "    return g\n",
    "end\n",
    "function monomial_sparsity_iteration(monos, P)\n",
    "    g = monomial_sparsity_graph(monos, P)\n",
    "    H, cliques = CEG.chordal_extension(g, CEG.GreedyFillIn())\n",
    "    P_next = Set{eltype(P)}()\n",
    "    for a in monos\n",
    "        push!(P_next, a^2)\n",
    "        for bi in H.graph.neighbors[H.n2int[a]]\n",
    "            b = H.int2n[bi]\n",
    "            push!(P_next, a * b)\n",
    "        end\n",
    "    end\n",
    "    return P_next, cliques\n",
    "end\n",
    "function sparsity(monos::AbstractVector{<:MP.AbstractMonomial}, sp::MonomialSparsity)\n",
    "    half_monos = SumOfSquares.Certificate.monomials_half_newton_polytope(monos, tuple())\n",
    "    P = Set(monos)\n",
    "    for mono in half_monos\n",
    "        push!(P, mono^2)\n",
    "    end\n",
    "    cliques = nothing\n",
    "    iter = 0\n",
    "    while iter < sp.k || iszero(iter)\n",
    "        P_prev = P\n",
    "        P, cliques = monomial_sparsity_iteration(half_monos, P_prev)\n",
    "        length(P) >= length(P_prev) || error(\"Set of monomials should be increasing in monomial sparsity iterations.\")\n",
    "        length(P) == length(P_prev) && break\n",
    "    end\n",
    "    return P, cliques\n",
    "end\n",
    "function sparsity(poly::MP.AbstractPolynomial, sp::Union{SignSymmetry, MonomialSparsity})\n",
    "    return sparsity(monomials(poly), sp)\n",
    "end"
   ]
  },
  {
   "cell_type": "code",
   "execution_count": 16,
   "metadata": {},
   "outputs": [
    {
     "data": {
      "text/plain": [
       "(Set(Monomial{true}[x₁⁴, x₁²x₂², x₁x₂x₃, x₂², x₃⁴, x₁²x₃², x₃², x₂, x₂⁴, x₂²x₃², x₁², 1]), Array{Monomial{true},1}[[x₁², x₂², x₃², 1], [x₂x₃, x₁], [x₂, 1], [x₁x₃, x₂], [x₁x₂, x₃]])"
      ]
     },
     "execution_count": 16,
     "metadata": {},
     "output_type": "execute_result"
    }
   ],
   "source": [
    "sparsity(f, MonomialSparsity(1))"
   ]
  },
  {
   "cell_type": "code",
   "execution_count": 17,
   "metadata": {},
   "outputs": [
    {
     "data": {
      "text/plain": [
       "(Set(Monomial{true}[x₁⁴, x₁²x₂², x₁x₂x₃, x₂², x₃⁴, x₁²x₃², x₃², x₂, x₂⁴, x₂²x₃², x₁², 1]), Array{Monomial{true},1}[[x₁², x₂², x₃², 1], [x₂x₃, x₁], [x₂, 1], [x₁x₃, x₂], [x₁x₂, x₃]])"
      ]
     },
     "execution_count": 17,
     "metadata": {},
     "output_type": "execute_result"
    }
   ],
   "source": [
    "sparsity(f, MonomialSparsity(2))"
   ]
  },
  {
   "cell_type": "code",
   "execution_count": 18,
   "metadata": {},
   "outputs": [
    {
     "data": {
      "text/plain": [
       "(Set(Monomial{true}[x₁⁴, x₁²x₂², x₁x₂x₃, x₂², x₃⁴, x₁²x₃², x₃², x₂, x₂⁴, x₂²x₃², x₁², 1]), Array{Monomial{true},1}[[x₁², x₂², x₃², 1], [x₂x₃, x₁], [x₂, 1], [x₁x₃, x₂], [x₁x₂, x₃]])"
      ]
     },
     "execution_count": 18,
     "metadata": {},
     "output_type": "execute_result"
    }
   ],
   "source": [
    "sparsity(f, MonomialSparsity(0))"
   ]
  },
  {
   "cell_type": "code",
   "execution_count": 108,
   "metadata": {},
   "outputs": [
    {
     "data": {
      "text/latex": [
       "$$ x_{1}^{4}x_{2}^{4} + x_{1}^{4}x_{2}^{2} + x_{1}^{2}x_{2}^{4} - 3x_{1}^{2}x_{2}^{2} - x_{1}x_{2}^{2} + 1 $$"
      ],
      "text/plain": [
       "x₁⁴x₂⁴ + x₁⁴x₂² + x₁²x₂⁴ - 3x₁²x₂² - x₁x₂² + 1"
      ]
     },
     "execution_count": 108,
     "metadata": {},
     "output_type": "execute_result"
    }
   ],
   "source": [
    "f = 1 + x[1]^2 * x[2]^4 + x[1]^4 * x[2]^2 + x[1]^4 * x[2]^4 - x[1] * x[2]^2 - 3x[1]^2 * x[2]^2"
   ]
  },
  {
   "cell_type": "code",
   "execution_count": 21,
   "metadata": {},
   "outputs": [
    {
     "data": {
      "text/plain": [
       "(Set(Monomial{true}[1, x₁²x₂², x₁⁴x₂², x₁x₂², x₁⁴x₂⁴, x₁²x₂⁴]), Array{Monomial{true},1}[[x₁x₂², 1], [x₁²x₂², 1], [x₁x₂], [x₁²x₂]])"
      ]
     },
     "execution_count": 21,
     "metadata": {},
     "output_type": "execute_result"
    }
   ],
   "source": [
    "sparsity(f, MonomialSparsity(1))"
   ]
  },
  {
   "cell_type": "code",
   "execution_count": 22,
   "metadata": {},
   "outputs": [
    {
     "data": {
      "text/plain": [
       "(Set(Monomial{true}[1, x₁²x₂², x₁⁴x₂², x₁x₂², x₁⁴x₂⁴, x₁²x₂⁴]), Array{Monomial{true},1}[[x₁x₂², 1], [x₁²x₂², 1], [x₁x₂], [x₁²x₂]])"
      ]
     },
     "execution_count": 22,
     "metadata": {},
     "output_type": "execute_result"
    }
   ],
   "source": [
    "sparsity(f, MonomialSparsity(2))"
   ]
  },
  {
   "cell_type": "code",
   "execution_count": 23,
   "metadata": {},
   "outputs": [
    {
     "data": {
      "text/plain": [
       "(Set(Monomial{true}[1, x₁²x₂², x₁⁴x₂², x₁x₂², x₁⁴x₂⁴, x₁²x₂⁴]), Array{Monomial{true},1}[[x₁x₂², 1], [x₁²x₂², 1], [x₁x₂], [x₁²x₂]])"
      ]
     },
     "execution_count": 23,
     "metadata": {},
     "output_type": "execute_result"
    }
   ],
   "source": [
    "sparsity(f, MonomialSparsity(0))"
   ]
  },
  {
   "cell_type": "code",
   "execution_count": 4,
   "metadata": {},
   "outputs": [
    {
     "data": {
      "text/plain": [
       "xor_complement (generic function with 2 methods)"
      ]
     },
     "execution_count": 4,
     "metadata": {},
     "output_type": "execute_result"
    }
   ],
   "source": [
    "mutable struct XORSpace{T<:Integer}\n",
    "    dimension::Int\n",
    "    basis::Vector{T}\n",
    "    function XORSpace{T}(n) where T\n",
    "        return new(0, zeros(T, n))\n",
    "    end\n",
    "end\n",
    "function appropriate_type(n)\n",
    "    if n < 8sizeof(Int)\n",
    "        return Int\n",
    "    elseif n < 64\n",
    "        return Int64\n",
    "    elseif n < 128\n",
    "        return Int128\n",
    "    else\n",
    "        return BigInt\n",
    "    end\n",
    "end\n",
    "function XORSpace(n)\n",
    "    return XORSpace{appropriate_type(n)}(n)\n",
    "end\n",
    "function Base.push!(xs::XORSpace{T}, x::T) where T\n",
    "    for i in eachindex(xs.basis)\n",
    "        if !iszero(x & (one(T) << (i - 1)))\n",
    "            if iszero(xs.basis[i])\n",
    "                xs.dimension += 1\n",
    "                xs.basis[i] = x\n",
    "                break\n",
    "            else\n",
    "                x = xor(x, xs.basis[i])\n",
    "            end\n",
    "        end\n",
    "    end\n",
    "    return xs\n",
    "end\n",
    "function orthogonal_complement(xs::XORSpace{T}) where T\n",
    "    r = Vector{T}(undef, length(xs.basis) - xs.dimension)\n",
    "    k = 0\n",
    "    for i in eachindex(xs.basis)\n",
    "        if iszero(xs.basis[i])\n",
    "            e = one(T) << (i - 1)\n",
    "            x = e\n",
    "            for j in 1:(i - 1)\n",
    "                if !iszero(xs.basis[j] & e)\n",
    "                    x |= (one(T) << (j - 1))\n",
    "                end\n",
    "            end\n",
    "            k += 1\n",
    "            r[k] = x\n",
    "        end\n",
    "    end\n",
    "    @assert k == length(r)\n",
    "    return r\n",
    "end\n",
    "function xor_complement(x, n, ::Type{T} = appropriate_type(n)) where T\n",
    "    xs = XORSpace{T}(n)\n",
    "    for xi in x\n",
    "        push!(xs, xi)\n",
    "    end\n",
    "    return orthogonal_complement(xs)\n",
    "end"
   ]
  },
  {
   "cell_type": "code",
   "execution_count": 5,
   "metadata": {},
   "outputs": [
    {
     "data": {
      "text/plain": [
       "\u001b[32m\u001b[1mTest Passed\u001b[22m\u001b[39m"
      ]
     },
     "execution_count": 5,
     "metadata": {},
     "output_type": "execute_result"
    }
   ],
   "source": [
    "using Test\n",
    "@test xor_complement([1], 1) == Int[]\n",
    "@test xor_complement(Int[], 1) == [1]\n",
    "@test xor_complement([1], 2) == [2]\n",
    "@test xor_complement([2], 2) == [1]\n",
    "@test xor_complement([1, 2], 2) == Int[]\n",
    "@test xor_complement([1, 3], 2) == Int[]\n",
    "@test xor_complement(Int[], 2) == [1, 2]\n",
    "@test xor_complement([7], 3) == [3, 5]\n",
    "@test xor_complement([5, 6, 3], 3) == [7]\n",
    "@test xor_complement([3], 3) == [3, 4]"
   ]
  },
  {
   "cell_type": "code",
   "execution_count": 11,
   "metadata": {},
   "outputs": [
    {
     "data": {
      "text/plain": [
       "sparsity (generic function with 2 methods)"
      ]
     },
     "execution_count": 11,
     "metadata": {},
     "output_type": "execute_result"
    }
   ],
   "source": [
    "struct SignSymmetry <: Sparsity end\n",
    "function binary_exponent(exponents, ::Type{T}) where T\n",
    "    cur = zero(T)\n",
    "    for exponent in exponents\n",
    "        cur <<= 1\n",
    "        if isodd(exponent)\n",
    "            cur |= one(T)\n",
    "        end\n",
    "    end\n",
    "    return cur\n",
    "end\n",
    "bin_dot(x, y) = isodd(count_ones(x & y))\n",
    "function buckets_sign_symmetry(monos, r, ::Type{T}, ::Type{U}) where {T, U}\n",
    "    buckets = Dict{U, Vector{eltype(monos)}}()\n",
    "    for mono in monos\n",
    "        exp = binary_exponent(exponents(mono), T)\n",
    "        i = 1 + binary_exponent([bin_dot(ri, exp) for ri in r], U)\n",
    "        if !haskey(buckets, i)\n",
    "            buckets[i] = eltype(monos)[]\n",
    "        end\n",
    "        push!(buckets[i], mono)\n",
    "    end\n",
    "    return collect(values(buckets))\n",
    "end\n",
    "function sign_symmetry(monos::AbstractVector{<:MP.AbstractMonomial}, n, ::Type{T}) where T\n",
    "    r = xor_complement((binary_exponent(exponents(mono), T) for mono in monos), n, T)\n",
    "    return buckets_sign_symmetry(SumOfSquares.Certificate.monomials_half_newton_polytope(monos, tuple()),\n",
    "                                 r, T, appropriate_type(length(r)))\n",
    "end\n",
    "function sparsity(monos::AbstractVector{<:MP.AbstractMonomial}, sp::SignSymmetry)\n",
    "    n = nvariables(monos)\n",
    "    return sign_symmetry(monos, n, appropriate_type(n))\n",
    "end"
   ]
  },
  {
   "cell_type": "code",
   "execution_count": 118,
   "metadata": {},
   "outputs": [
    {
     "name": "stdout",
     "output_type": "stream",
     "text": [
      "r = [1, 6]\n"
     ]
    },
    {
     "data": {
      "text/plain": [
       "3-element Array{Array{Monomial{true},1},1}:\n",
       " [x₁, x₂]\n",
       " [x₃]\n",
       " [x₁², x₁x₂, x₂², 1]"
      ]
     },
     "execution_count": 118,
     "metadata": {},
     "output_type": "execute_result"
    }
   ],
   "source": [
    "sparsity(f, SignSymmetry())"
   ]
  },
  {
   "cell_type": "code",
   "execution_count": 119,
   "metadata": {},
   "outputs": [
    {
     "data": {
      "text/plain": [
       "(PolyVar{true}[x₁, x₂, x₃, x₄, x₅, x₆, x₇, x₈, x₉, x₁₀  …  x₉₁, x₉₂, x₉₃, x₉₄, x₉₅, x₉₆, x₉₇, x₉₈, x₉₉, x₁₀₀],)"
      ]
     },
     "execution_count": 119,
     "metadata": {},
     "output_type": "execute_result"
    }
   ],
   "source": [
    "@polyvar(x[1:100])"
   ]
  },
  {
   "cell_type": "code",
   "execution_count": 7,
   "metadata": {},
   "outputs": [
    {
     "data": {
      "text/plain": [
       "test (generic function with 1 method)"
      ]
     },
     "execution_count": 7,
     "metadata": {},
     "output_type": "execute_result"
    }
   ],
   "source": [
    "function test(n)\n",
    "    @polyvar x[1:(2n)]\n",
    "    sort!(sparsity(sum((x[1:2:(2n-1)] .- x[2:2:(2n)]).^2), SignSymmetry()), by = first, rev = true)\n",
    "end"
   ]
  },
  {
   "cell_type": "code",
   "execution_count": 8,
   "metadata": {},
   "outputs": [
    {
     "name": "stderr",
     "output_type": "stream",
     "text": [
      "┌ Info: Precompiling ProfileView [c46f51b8-102a-5cf2-8d2c-8597cb0e0da7]\n",
      "└ @ Base loading.jl:1260\n",
      "Gtk-Message: 15:12:45.086: Failed to load module \"canberra-gtk-module\"\n",
      "Gtk-Message: 15:12:45.086: Failed to load module \"canberra-gtk-module\"\n",
      "Gtk-Message: 15:12:51.954: Failed to load module \"canberra-gtk-module\"\n",
      "Gtk-Message: 15:12:51.955: Failed to load module \"canberra-gtk-module\"\n",
      "Gtk-Message: 15:13:13.000: Failed to load module \"canberra-gtk-module\"\n",
      "Gtk-Message: 15:13:13.000: Failed to load module \"canberra-gtk-module\"\n"
     ]
    }
   ],
   "source": [
    "using ProfileView"
   ]
  },
  {
   "cell_type": "code",
   "execution_count": 15,
   "metadata": {},
   "outputs": [
    {
     "data": {
      "text/plain": [
       "Gtk.GtkWindowLeaf(name=\"\", parent, width-request=-1, height-request=-1, visible=TRUE, sensitive=TRUE, app-paintable=FALSE, can-focus=FALSE, has-focus=FALSE, is-focus=FALSE, focus-on-click=TRUE, can-default=FALSE, has-default=FALSE, receives-default=FALSE, composite-child=FALSE, style, events=0, no-show-all=FALSE, has-tooltip=FALSE, tooltip-markup=NULL, tooltip-text=NULL, window, opacity=1.000000, double-buffered, halign=GTK_ALIGN_FILL, valign=GTK_ALIGN_FILL, margin-left, margin-right, margin-start=0, margin-end=0, margin-top=0, margin-bottom=0, margin=0, hexpand=FALSE, vexpand=FALSE, hexpand-set=FALSE, vexpand-set=FALSE, expand=FALSE, scale-factor=1, border-width=0, resize-mode, child, type=GTK_WINDOW_TOPLEVEL, title=\"Profile\", role=NULL, resizable=TRUE, modal=FALSE, window-position=GTK_WIN_POS_NONE, default-width=800, default-height=600, destroy-with-parent=FALSE, hide-titlebar-when-maximized=FALSE, icon, icon-name=NULL, screen, type-hint=GDK_WINDOW_TYPE_HINT_NORMAL, skip-taskbar-hint=FALSE, skip-pager-hint=FALSE, urgency-hint=FALSE, accept-focus=TRUE, focus-on-map=TRUE, decorated=TRUE, deletable=TRUE, gravity=GDK_GRAVITY_NORTH_WEST, transient-for, attached-to, has-resize-grip, resize-grip-visible, application, is-active=FALSE, has-toplevel-focus=FALSE, startup-id, mnemonics-visible=FALSE, focus-visible=FALSE, is-maximized=FALSE)"
      ]
     },
     "execution_count": 15,
     "metadata": {},
     "output_type": "execute_result"
    }
   ],
   "source": [
    "@profview test(100)"
   ]
  },
  {
   "cell_type": "code",
   "execution_count": null,
   "metadata": {
    "collapsed": true
   },
   "outputs": [],
   "source": [
    "sparsity(sum((x[1:2:99] .- x[2:2:100]).^2), SignSymmetry())"
   ]
  },
  {
   "cell_type": "code",
   "execution_count": 115,
   "metadata": {},
   "outputs": [
    {
     "data": {
      "text/latex": [
       "$$ x_{1}^{4} + x_{2}^{4} + x_{1}x_{2} + x_{3}^{2} + 1 $$"
      ],
      "text/plain": [
       "x₁⁴ + x₂⁴ + x₁x₂ + x₃² + 1"
      ]
     },
     "execution_count": 115,
     "metadata": {},
     "output_type": "execute_result"
    }
   ],
   "source": [
    "f = 1 + x[1]^4 + x[1] * x[2] + x[2]^4 + x[3]^2"
   ]
  },
  {
   "cell_type": "code",
   "execution_count": 116,
   "metadata": {},
   "outputs": [
    {
     "name": "stdout",
     "output_type": "stream",
     "text": [
      "r = [1, 6]\n"
     ]
    },
    {
     "data": {
      "text/plain": [
       "3-element Array{Pair{Int64,Array{Monomial{true},1}},1}:\n",
       " 2 => [x₁, x₂]\n",
       " 3 => [x₃]\n",
       " 1 => [x₁², x₁x₂, x₂², 1]"
      ]
     },
     "execution_count": 116,
     "metadata": {},
     "output_type": "execute_result"
    }
   ],
   "source": [
    "sparsity(f, SignSymmetry())"
   ]
  },
  {
   "cell_type": "code",
   "execution_count": null,
   "metadata": {
    "collapsed": true
   },
   "outputs": [],
   "source": []
  }
 ],
 "metadata": {
  "@webio": {
   "lastCommId": null,
   "lastKernelId": null
  },
  "kernelspec": {
   "display_name": "Julia 1.4.2",
   "language": "julia",
   "name": "julia-1.4"
  },
  "language_info": {
   "file_extension": ".jl",
   "mimetype": "application/julia",
   "name": "julia",
   "version": "1.4.2"
  }
 },
 "nbformat": 4,
 "nbformat_minor": 2
}
